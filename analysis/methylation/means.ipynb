{
 "cells": [
  {
   "cell_type": "code",
   "execution_count": 69,
   "id": "99942341-e8c8-4350-9208-1fa3c45e379f",
   "metadata": {},
   "outputs": [],
   "source": [
    "import random"
   ]
  },
  {
   "cell_type": "code",
   "execution_count": 40,
   "id": "e7a2eeac-f051-4c99-a352-622055ff0d3f",
   "metadata": {},
   "outputs": [],
   "source": [
    "bins = []\n",
    "bin_size = 3_000_000\n",
    "bin_number = bin_size\n",
    "prev_chrom = None\n",
    "current_bin = []\n",
    "with open(\"merged_samples/jon.combined.me.sorted.tab\", \"r\") as fh:\n",
    "    for line in fh:\n",
    "        (chrom, start1, end1, start2,end2, entropy) = line.split(\"\\t\")\n",
    "        start1 = int(start1)\n",
    "        end1 = int(end1)\n",
    "        entropy = float(entropy)\n",
    "        if start1 > bin_number:\n",
    "            bins.append(current_bin)\n",
    "            current_bin = []\n",
    "            bin_number += bin_size\n",
    "        if chrom != prev_chrom:\n",
    "            if prev_chrom is not None:\n",
    "                bins.append(current_bin)\n",
    "                current_bin = []\n",
    "            prev_chrom = chrom\n",
    "            bin_number = bin_size\n",
    "        if start1 < bin_number:\n",
    "            current_bin.append((chrom, start1, end1, entropy))"
   ]
  },
  {
   "cell_type": "code",
   "execution_count": 41,
   "id": "fd5b2993-bc69-48e7-a73b-7e59caf5bf8b",
   "metadata": {},
   "outputs": [
    {
     "data": {
      "text/plain": [
       "[('208', 20333, 20338, 0.54273766),\n",
       " ('208', 20338, 20356, 0.5616098),\n",
       " ('208', 20356, 20361, 0.63048196)]"
      ]
     },
     "execution_count": 41,
     "metadata": {},
     "output_type": "execute_result"
    }
   ],
   "source": [
    "bins[-1]"
   ]
  },
  {
   "cell_type": "code",
   "execution_count": 42,
   "id": "467e704b-bdd2-4fe3-a7e2-bec52db8992c",
   "metadata": {},
   "outputs": [],
   "source": [
    "means = []\n",
    "for b in bins:\n",
    "    t = sum([x[3] for x in b])\n",
    "    m = t / len(b)\n",
    "    s = b[0][1]\n",
    "    e = b[-1][2]\n",
    "    means.append((b[0][0], str(s), str(e), str(m)))\n",
    "        "
   ]
  },
  {
   "cell_type": "code",
   "execution_count": 43,
   "id": "2e4a75e4-d278-4013-988f-595aa6146c0f",
   "metadata": {},
   "outputs": [],
   "source": [
    "with open(\"merged_samples/jon.combined.me.sorted.means.tab\", \"w\") as fh:\n",
    "    for m in means:\n",
    "        fh.write(f\"{'\\t'.join(m)}\\n\")"
   ]
  },
  {
   "cell_type": "code",
   "execution_count": 44,
   "id": "ea038fe8-b526-4764-ba2b-34a617721e58",
   "metadata": {},
   "outputs": [],
   "source": [
    "bins = []\n",
    "prev_chrom = None\n",
    "current_bin = []\n",
    "with open(\"merged_samples/hatchling.combined.me.sorted.tab\", \"r\") as fh:\n",
    "    for line in fh:\n",
    "        (chrom, start1, end1, start2,end2, entropy) = line.split(\"\\t\")\n",
    "        start1 = int(start1)\n",
    "        end1 = int(end1)\n",
    "        entropy = float(entropy)\n",
    "        if start1 > bin_number:\n",
    "            bins.append(current_bin)\n",
    "            current_bin = []\n",
    "            bin_number += bin_size\n",
    "        if chrom != prev_chrom:\n",
    "            if prev_chrom is not None:\n",
    "                bins.append(current_bin)\n",
    "                current_bin = []\n",
    "            prev_chrom = chrom\n",
    "            bin_number = bin_size\n",
    "        if start1 < bin_number:\n",
    "            current_bin.append((chrom, start1, end1, entropy))"
   ]
  },
  {
   "cell_type": "code",
   "execution_count": 45,
   "id": "6ae9968d-638b-4d5b-a937-2fafd0a05017",
   "metadata": {},
   "outputs": [],
   "source": [
    "means = []\n",
    "for b in bins:\n",
    "    t = sum([x[3] for x in b])\n",
    "    m = t / len(b)\n",
    "    s = b[0][1]\n",
    "    e = b[-1][2]\n",
    "    means.append((b[0][0], str(s), str(e), str(m)))"
   ]
  },
  {
   "cell_type": "code",
   "execution_count": 46,
   "id": "639eb154-0483-42fa-9bec-648b16b18a86",
   "metadata": {},
   "outputs": [],
   "source": [
    "with open(\"merged_samples/hatchling.combined.me.sorted.means.tab\", \"w\") as fh:\n",
    "    for m in means:\n",
    "        fh.write(f\"{'\\t'.join(m)}\\n\")"
   ]
  },
  {
   "cell_type": "markdown",
   "id": "a9e06a75-9f35-465b-95e7-e274efae0c87",
   "metadata": {},
   "source": [
    "# methylation means\n"
   ]
  },
  {
   "cell_type": "code",
   "execution_count": 53,
   "id": "369adbb1-2638-470a-a877-4846021ba635",
   "metadata": {},
   "outputs": [],
   "source": [
    "bins = []\n",
    "prev_chrom = None\n",
    "current_bin = []\n",
    "with open(\"merged_samples/jon.merged.dnmtools.CpG.meth\", \"r\") as fh:\n",
    "    for line in fh:\n",
    "        (chrom, start, strand, meth_type,meth, n_reads) = line.split(\"\\t\")\n",
    "        start = int(start)\n",
    "        end = int(start + 1)\n",
    "        meth = float(meth)\n",
    "        if start > bin_number:\n",
    "            bins.append(current_bin)\n",
    "            current_bin = []\n",
    "            bin_number += bin_size\n",
    "        if chrom != prev_chrom:\n",
    "            if prev_chrom is not None:\n",
    "                bins.append(current_bin)\n",
    "                current_bin = []\n",
    "            prev_chrom = chrom\n",
    "            bin_number = bin_size\n",
    "        if start < bin_number:\n",
    "            current_bin.append((chrom, start, end, meth))"
   ]
  },
  {
   "cell_type": "code",
   "execution_count": 58,
   "id": "1c1faf8a-e21b-49ca-ad0f-f5695a24ddee",
   "metadata": {},
   "outputs": [],
   "source": [
    "means = []\n",
    "for b in bins:\n",
    "    t = sum([x[3] for x in b])\n",
    "    m = t / len(b)\n",
    "    s = b[0][1]\n",
    "    e = b[-1][2]\n",
    "    means.append((b[0][0], str(s), str(e), str(m)))"
   ]
  },
  {
   "cell_type": "code",
   "execution_count": 60,
   "id": "e911f301-694e-40b5-a400-8f42b7592f7f",
   "metadata": {},
   "outputs": [],
   "source": [
    "with open(\"merged_samples/jon.merged.dnmtools.CpG.meth.means.tab\", \"w\") as fh:\n",
    "    for m in means:\n",
    "        fh.write(f\"{'\\t'.join(m)}\\n\")"
   ]
  },
  {
   "cell_type": "code",
   "execution_count": 61,
   "id": "c7b68753-49bd-46db-9559-6164e8bd852e",
   "metadata": {},
   "outputs": [],
   "source": [
    "bins = []\n",
    "prev_chrom = None\n",
    "current_bin = []\n",
    "with open(\"merged_samples/hatchling.merged.dnmtools.CpG.meth\", \"r\") as fh:\n",
    "    for line in fh:\n",
    "        (chrom, start, strand, meth_type,meth, n_reads) = line.split(\"\\t\")\n",
    "        start = int(start)\n",
    "        end = int(start + 1)\n",
    "        meth = float(meth)\n",
    "        if start > bin_number:\n",
    "            bins.append(current_bin)\n",
    "            current_bin = []\n",
    "            bin_number += bin_size\n",
    "        if chrom != prev_chrom:\n",
    "            if prev_chrom is not None:\n",
    "                bins.append(current_bin)\n",
    "                current_bin = []\n",
    "            prev_chrom = chrom\n",
    "            bin_number = bin_size\n",
    "        if start < bin_number:\n",
    "            current_bin.append((chrom, start, end, meth))"
   ]
  },
  {
   "cell_type": "code",
   "execution_count": 62,
   "id": "663e43d7-80c3-45e8-b5b1-ea5b03eed115",
   "metadata": {},
   "outputs": [],
   "source": [
    "means = []\n",
    "for b in bins:\n",
    "    t = sum([x[3] for x in b])\n",
    "    m = t / len(b)\n",
    "    s = b[0][1]\n",
    "    e = b[-1][2]\n",
    "    means.append((b[0][0], str(s), str(e), str(m)))"
   ]
  },
  {
   "cell_type": "code",
   "execution_count": 63,
   "id": "39847a61-8f63-4da6-b15c-f994bc571a89",
   "metadata": {},
   "outputs": [
    {
     "data": {
      "text/plain": [
       "[('1', '4735', '2999889', '0.6747022407272844'),\n",
       " ('1', '3000025', '5999866', '0.5589003603709812'),\n",
       " ('1', '6000047', '8999995', '0.6640853276635876'),\n",
       " ('1', '9000006', '11999998', '0.675632524649695'),\n",
       " ('1', '12000021', '14999708', '0.6680326252426437')]"
      ]
     },
     "execution_count": 63,
     "metadata": {},
     "output_type": "execute_result"
    }
   ],
   "source": [
    "means[:5]"
   ]
  },
  {
   "cell_type": "code",
   "execution_count": 64,
   "id": "0c390f73-6490-431e-a7ef-1ef6e0b0d141",
   "metadata": {},
   "outputs": [],
   "source": [
    "with open(\"merged_samples/hatchling.merged.dnmtools.CpG.meth.means.tab\", \"w\") as fh:\n",
    "    for m in means:\n",
    "        fh.write(f\"{'\\t'.join(m)}\\n\")"
   ]
  },
  {
   "cell_type": "code",
   "execution_count": 80,
   "id": "e5a4194f-3ac6-431f-8d38-173638923701",
   "metadata": {},
   "outputs": [],
   "source": [
    "values = []\n",
    "with open(\"regression.jon2.hatch3.adjusted.dmrs.bed\", \"r\") as fh:\n",
    "    for line in fh:\n",
    "        (chrom, start, end, region_type,n_reads, meth) = line.split(\"\\t\")\n",
    "        chrom = int(chrom)\n",
    "        start = int(start)\n",
    "        end = int(end)\n",
    "        meth = float(meth)\n",
    "        values.append((chrom, start, end, meth))\n"
   ]
  },
  {
   "cell_type": "code",
   "execution_count": 88,
   "id": "9878b888-738f-4ff7-b0aa-3934f5dfe9fe",
   "metadata": {},
   "outputs": [],
   "source": [
    "means = random.sample(values, k=10000)\n",
    "means.sort(key=lambda x: x[1])\n",
    "means.sort(key=lambda x: x[0])"
   ]
  },
  {
   "cell_type": "code",
   "execution_count": 89,
   "id": "9b54fe8d-96e5-4afa-a754-a669d365d293",
   "metadata": {},
   "outputs": [],
   "source": [
    "with open(\"regression.jon2.hatch3.adjusted.dmrs.bed.means.tab\", \"w\") as fh:\n",
    "    for m in means:\n",
    "        fh.write(f\"{'\\t'.join([str(x) for x in m])}\\n\")"
   ]
  },
  {
   "cell_type": "code",
   "execution_count": null,
   "id": "10372bcc-1e60-4352-822b-c7ed6ec09931",
   "metadata": {},
   "outputs": [],
   "source": []
  }
 ],
 "metadata": {
  "kernelspec": {
   "display_name": "Python [conda env:jupyternotebook] *",
   "language": "python",
   "name": "conda-env-jupyternotebook-py"
  },
  "language_info": {
   "codemirror_mode": {
    "name": "ipython",
    "version": 3
   },
   "file_extension": ".py",
   "mimetype": "text/x-python",
   "name": "python",
   "nbconvert_exporter": "python",
   "pygments_lexer": "ipython3",
   "version": "3.12.7"
  }
 },
 "nbformat": 4,
 "nbformat_minor": 5
}
